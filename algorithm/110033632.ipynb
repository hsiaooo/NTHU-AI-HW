{
  "nbformat": 4,
  "nbformat_minor": 0,
  "metadata": {
    "colab": {
      "name": "110033632.ipynb",
      "provenance": [],
      "collapsed_sections": []
    },
    "kernelspec": {
      "name": "python3",
      "display_name": "Python 3"
    },
    "language_info": {
      "name": "python"
    }
  },
  "cells": [
    {
      "cell_type": "markdown",
      "metadata": {
        "id": "fohvYBFgUHdU"
      },
      "source": [
        "#**Introduction to AI - Algorithm and Data Structure: An Exercise**\n",
        "* Only **Python** implementation will be accepted.\n",
        "* **DO NOT PLAGIARIZE.** (We will check program similarity.)\n",
        "* You must **save as a copy** of this colab file before you start, otherwise your changes won't be saved.\n",
        "* **You must upload a `.ipynb` and a `.py` files to [eeclass](https://eeclass.nthu.edu.tw/) for evaluation.**\n",
        "<br /><br />\n",
        "\n",
        "##**Submission**\n",
        "\n",
        "* Due day: **2021.10.12**\n",
        "* Files to submit\n",
        "  * **StudentID.ipynb** file which contains all the results and code for this assignment.\n",
        "  * **StudentID.py** the code in this file must be consistent with your `.ipynb` file.\n",
        "* When you're done, you can download the `.py` and `.ipynb` by\n",
        "  * \"File\" > \"Download\" > \"Download .ipynb\"\n",
        "  * \"File\" > \"Download\" > \"Download .py\"\n",
        "\n",
        "##**Tasks**\n",
        "* (Required)\n",
        "  * Complete the code in **\\[T1\\]**.\n",
        "  * Complete the code in **\\[T2\\]**.\n",
        "  * Answer the questions in **\\[T3\\]**.\n",
        "* (Bonus)\n",
        "  * Complete both **\\[B1.1\\]** and **\\[B1.2\\]** to earn bonus.\n",
        "\n",
        "\n",
        "<br />\n",
        "\n",
        "* * *\n",
        "\n",
        "<br />"
      ]
    },
    {
      "cell_type": "markdown",
      "metadata": {
        "id": "1Dwl4GQlfCGM"
      },
      "source": [
        "## **A Breifing**\n",
        "From the previous practices, you've learned the basics of the data structures `queue` and `stack`. In this part, we are going to investigate and analyze their performance.\n",
        "\n",
        "Now, I've implemented these data structures as classes for you. I would suggest you study and understand the code before you proceed."
      ]
    },
    {
      "cell_type": "code",
      "metadata": {
        "id": "6qN6x4PUyssw"
      },
      "source": [
        "class ListLike:\n",
        "  def __init__(self):\n",
        "    self.content = []\n",
        "\n",
        "  def __str__(self):\n",
        "    return str(self.content)\n",
        "\n",
        "  def __len__(self):\n",
        "    return len(self.content)\n",
        "\n",
        "\n",
        "class Queue(ListLike):\n",
        "  def push(self, item):\n",
        "    self.content.insert(0, item)\n",
        "    return self\n",
        "\n",
        "  def pop(self):\n",
        "    if len(self) > 0:\n",
        "      to_return = self.content[-1]\n",
        "      self.content = self.content[:-1]\n",
        "      return to_return\n",
        "    else:\n",
        "      raise IndexError(\"There's nothing to pop.\")\n",
        "\n",
        "\n",
        "class Stack(ListLike):\n",
        "  def push(self, item):\n",
        "    self.content.append(item)\n",
        "    return self\n",
        "\n",
        "  def pop(self):\n",
        "    if len(self) > 0:\n",
        "      to_return = self.content[-1]\n",
        "      self.content = self.content[:-1]\n",
        "      return to_return\n",
        "    else:\n",
        "      raise IndexError(\"There's nothing to pop.\")"
      ],
      "execution_count": 19,
      "outputs": []
    },
    {
      "cell_type": "markdown",
      "metadata": {
        "id": "SiFlqQv68p8o"
      },
      "source": [
        "#### **[T1] Please complete this block to evaluate the performance of the class `queue`.**"
      ]
    },
    {
      "cell_type": "code",
      "metadata": {
        "id": "Q1-JglJy5WOG",
        "colab": {
          "base_uri": "https://localhost:8080/"
        },
        "outputId": "06d26e0e-f9e5-46c2-8214-8ea57b29f539"
      },
      "source": [
        "import time\n",
        "import random\n",
        "\n",
        "lb, ub = 0, 100\n",
        "k = int(1e5)\n",
        "\n",
        "# Generate `k` random integers between `lb` and `ub`\n",
        "randlist = [random.randint(lb, ub) for i in range(k)]\n",
        "\n",
        "# Get an instance of the class `Quere`\n",
        "queue = Queue()\n",
        "\n",
        "# Get start time\n",
        "start_time = time.time()\n",
        "\n",
        "# Use a loop to push the `k` random integers to the `queue` ONE BY ONE.\n",
        "for i in randlist:\n",
        "  queue.push(i)\n",
        "\n",
        "#  print(queue)    # <= uncomment this line if you need to print the queue\n",
        "\n",
        "# Pop everything out of the queue. Again, pop them out ONE BY ONE.\n",
        "for _ in range(len(queue)):\n",
        "  queue.pop()\n",
        "\n",
        "# Get end time\n",
        "end_time = time.time()\n",
        "\n",
        "# Compute and print elapsed time\n",
        "print(\"It took %s seconds to push and pop %d items from a queue.\" % ((end_time - start_time), k))\n"
      ],
      "execution_count": 20,
      "outputs": [
        {
          "output_type": "stream",
          "name": "stdout",
          "text": [
            "It took 17.910603761672974 seconds to push and pop 100000 items from a queue.\n"
          ]
        }
      ]
    },
    {
      "cell_type": "markdown",
      "metadata": {
        "id": "PVhC49gk8d0u"
      },
      "source": [
        "#### **[T2] Please complete this block to evaluate the performance of the class `stack`.**"
      ]
    },
    {
      "cell_type": "code",
      "metadata": {
        "id": "DjuhFMc28LhC",
        "colab": {
          "base_uri": "https://localhost:8080/"
        },
        "outputId": "40bfc165-251b-43a4-b40e-445f7920dcf2"
      },
      "source": [
        "# Get an instance of the class `Quere`\n",
        "stack = Stack()\n",
        "times = 0\n",
        "\n",
        "# Get start time\n",
        "start_time = time.time()\n",
        "\n",
        "# Use a loop to push the `k` random integers to the `stack` ONE BY ONE.\n",
        "for j in randlist:\n",
        "  stack.push(j)\n",
        "\n",
        "# print(stack)    # <= uncomment this line if you need to print the stack\n",
        "\n",
        "# Pop everything out of the stack. Again, pop them out ONE BY ONE.\n",
        "for z in range(len(stack)):\n",
        "  stack.pop()\n",
        "\n",
        "# Get end time\n",
        "end_time = time.time()\n",
        "\n",
        "# Compute and print elapsed time\n",
        "print(\"It took %s seconds to push and pop %d items from a stack.\" % ((end_time - start_time), k))\n"
      ],
      "execution_count": 11,
      "outputs": [
        {
          "output_type": "stream",
          "name": "stdout",
          "text": [
            "It took 15.7384672164917 seconds to push and pop 100000 items from a stack.\n"
          ]
        }
      ]
    },
    {
      "cell_type": "markdown",
      "metadata": {
        "id": "MTeQULSZ9VX0"
      },
      "source": [
        "#### **[T3] Discussions**\n",
        "You are expected to answer the following questions.\n",
        "\n",
        "1. Which data structure runs faster in the above tests?\n",
        "1. Why does the faster one run faster?\n",
        "1. Analyze the **big-O** complexity of the `push` function of the two data structures in terms of **numbers of copies**. Namely, given a list of `n` elements, how many data copies (assignments) are required to `push` a item to a `queue` and to a `stack` in worst case? <br /> **Hint:** Moving an element in a list to another slot is one data copy.\n",
        "1. In what case would you use a `queue` and `stack` to store data, repectively?\n",
        "1. How can we improve the slower data structure?\n",
        "\n",
        "Hint: You may see Python official document of [`List`](https://docs.python.org/3/tutorial/datastructures.html) for some clues.\n",
        "\n",
        "You're answers (you may answer in Chinese):\n",
        "\n",
        "**Ans. 1:** \n",
        "> `Stack` (spent time: 15.71s)\n",
        "\n",
        "**Ans. 2:** \n",
        "> 在`queue`執行時，在`push`的執行約3s，而在`stack`的`push`執行不到1s左右，其因`queue`的`push`使用`insert`，所以每一次都要先去搜尋index在insert item後，要將所有以插入的資料往後移位，故時間複雜度較高，而`stack`使用append可以直接插入在最後一個，故`stack` faster than `queue`.\n",
        "\n",
        "**Ans. 3:** \n",
        "> `push` function of `queue`: O(n). `push` function of `stack`: O(1). \n",
        "\n",
        "**Ans. 4:** \n",
        "> 通常會在需要data一個一個使用的時候使用`queue`，能夠讓資料暫時先儲存起來在一個一個往下送，避免資料遺失。<br />通常在需要比對兩項資料的時候可以使用`stack`，因`stack`遵守LIFO故可以進行比對。\n",
        "\n",
        "**Ans. 5:** \n",
        "> 1) 將一開始queue的push function改為append的方式從後面增加item，這樣就不會有資料向後移位的問題，並在pop的時候提取第一位。**(從18s進步到15s)**<br />\n",
        "2) 將list轉成linkedlist，這樣就不用每一次將儲存的資料往後移一位，而是可以直接跟著而是可以直接跟著pointer，隨時向下一位進行pop，大大的減少運行時間。"
      ]
    },
    {
      "cell_type": "markdown",
      "metadata": {
        "id": "fJtulWgZIxnm"
      },
      "source": [
        "#### **[B1.1] Please revise this block according to your Answer 5.**\n",
        "Please revise the following code according to your answer to improve the slower data structure.\n",
        "\n",
        "Note that\n",
        "*   a `queue` must follow `FIFO` rule\n",
        "*   a `stack` must follow `LIFO` rule.\n",
        "\n",
        "See supplementary materials on [eeclass](https://eeclass.nthu.edu.tw/) if you don't know what are these.\n",
        "\n"
      ]
    },
    {
      "cell_type": "code",
      "metadata": {
        "id": "qZRgijfMIwsw"
      },
      "source": [
        "class ListLike:\n",
        "  def __init__(self):\n",
        "    self.content = []\n",
        "\n",
        "  def __str__(self):\n",
        "    return str(self.content)\n",
        "\n",
        "  def __len__(self):\n",
        "    return len(self.content)\n",
        "\n",
        "\n",
        "class Queue(ListLike):\n",
        "  def push(self, item):\n",
        "    self.content.append(item)\n",
        "    return self\n",
        "\n",
        "  def pop(self):\n",
        "    if len(self) > 0:\n",
        "      to_return = self.content[0]\n",
        "      self.content = self.content[1:]\n",
        "      return to_return\n",
        "    else:\n",
        "      raise IndexError(\"There's nothing to pop.\")\n",
        "\n",
        "\n",
        "class Stack(ListLike):\n",
        "  def push(self, item):\n",
        "    \"\"\"\n",
        "    Revise this method (function) if you answered that `Stack` is slower.\n",
        "    \"\"\"\n",
        "    self.content.append(item)\n",
        "    return self\n",
        "\n",
        "  def pop(self):\n",
        "    \"\"\"\n",
        "    And this method (function) too.\n",
        "    \"\"\"\n",
        "    if len(self) > 0:\n",
        "      to_return = self.content[-1]\n",
        "      self.content = self.content[:-1]\n",
        "      return to_return\n",
        "    else:\n",
        "      raise IndexError(\"There's nothing to pop.\")"
      ],
      "execution_count": 21,
      "outputs": []
    },
    {
      "cell_type": "markdown",
      "metadata": {
        "id": "wNN1-LMTKKAE"
      },
      "source": [
        "**[B1.2]** Copy your code from above to evaluate how much your revision improves the performance."
      ]
    },
    {
      "cell_type": "code",
      "metadata": {
        "id": "SsnJ7kekKEfU",
        "colab": {
          "base_uri": "https://localhost:8080/"
        },
        "outputId": "6d5faec2-68fa-49ad-b205-3f42c916caef"
      },
      "source": [
        "import time\n",
        "import random\n",
        "\n",
        "lb, ub = 0, 100\n",
        "k = int(1e5)\n",
        "\n",
        "# Generate `k` random integers between `lb` and `ub`\n",
        "randlist = [random.randint(lb, ub) for i in range(k)]\n",
        "\n",
        "# Get an instance of the class `Quere` or `Stack\n",
        "queue = Queue()   # <= uncomment this line if you want to test a `queue`\n",
        "# stack = Stack()   # <= uncomment this line if you want to test a `stack`\n",
        "\n",
        "# Get start time\n",
        "start_time = time.time()\n",
        "\n",
        "# Use a loop to push the `k` random integers to the `queue` or `stack` one by one.\n",
        "for i in randlist:\n",
        "  queue.push(i)\n",
        "\n",
        "# print(queue)    # <= uncomment this line if you need to print the queue\n",
        "# print(stack)    # <= uncomment this line if you need to print the stack\n",
        "\n",
        "# Pop everything out of the queue or stack one by one.\n",
        "for _ in range(len(queue)):\n",
        "  queue.pop()\n",
        "\n",
        "# Get end time\n",
        "end_time = time.time()\n",
        "\n",
        "# Compute and print elapsed time\n",
        "print(\"It took %s seconds to push and pop %d items from a queue.\" % ((end_time - start_time), k))\n"
      ],
      "execution_count": 22,
      "outputs": [
        {
          "output_type": "stream",
          "name": "stdout",
          "text": [
            "It took 15.743534803390503 seconds to push and pop 100000 items from a queue.\n"
          ]
        }
      ]
    }
  ]
}